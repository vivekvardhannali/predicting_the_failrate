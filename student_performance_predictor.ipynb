{
  "nbformat": 4,
  "nbformat_minor": 0,
  "metadata": {
    "colab": {
      "provenance": [],
      "authorship_tag": "ABX9TyMoYzX0PnuqpuTqnBVLw9Pe",
      "include_colab_link": true
    },
    "kernelspec": {
      "name": "python3",
      "display_name": "Python 3"
    },
    "language_info": {
      "name": "python"
    }
  },
  "cells": [
    {
      "cell_type": "markdown",
      "metadata": {
        "id": "view-in-github",
        "colab_type": "text"
      },
      "source": [
        "<a href=\"https://colab.research.google.com/github/vivekvardhannali/predicting_the_failrate/blob/main/student_performance_predictor.ipynb\" target=\"_parent\"><img src=\"https://colab.research.google.com/assets/colab-badge.svg\" alt=\"Open In Colab\"/></a>"
      ]
    },
    {
      "cell_type": "code",
      "source": [
        "import requests\n",
        "import zipfile\n",
        "import io\n",
        "import pandas as pd#creates nd arrays with much faster implementation than lists\n",
        "import numpy as np#loading datasets,data manipulation etc\n",
        "from sklearn.model_selection import train_test_split#\n",
        "from sklearn.metrics import classification_report,accuracy_score\n",
        "from sklearn.preprocessing import LabelEncoder\n",
        "from sklearn.preprocessing import StandardScaler\n",
        "import matplotlib.pyplot as plt"
      ],
      "metadata": {
        "id": "6VUktuRK4_jf"
      },
      "execution_count": null,
      "outputs": []
    },
    {
      "cell_type": "code",
      "source": [
        "zip_url = 'https://archive.ics.uci.edu/ml/machine-learning-databases/00320/student.zip'\n",
        "response=requests.get(zip_url)\n",
        "if response.status_code == 200:\n",
        "    with zipfile.ZipFile(io.BytesIO(response.content)) as thezip:\n",
        "        with thezip.open('student-por.csv') as myfile:\n",
        "            df_por = pd.read_csv(myfile, sep=';')#conversion of csv into dataframe\n",
        "        with thezip.open('student-mat.csv') as myfile:\n",
        "            df_mat = pd.read_csv(myfile, sep=';')\n",
        "    df = pd.concat([df_por, df_mat], axis=0)\n",
        "else:\n",
        "    print(\"Failed to download the file\")\n",
        "\n"
      ],
      "metadata": {
        "id": "bpBsj4pm-tdm"
      },
      "execution_count": null,
      "outputs": []
    },
    {
      "cell_type": "code",
      "source": [
        "print(df.head())\n",
        "print(df.describe())\n",
        "print(df.isnull().sum())#isnull checks if there is any empty cell and sum accumulates all true values add it in one coloumn\n",
        "print(df.info())"
      ],
      "metadata": {
        "colab": {
          "base_uri": "https://localhost:8080/"
        },
        "collapsed": true,
        "id": "eRGiecg7D9M5",
        "outputId": "8fb34b69-206e-4e2e-a079-a3d279e28a24"
      },
      "execution_count": null,
      "outputs": [
        {
          "output_type": "stream",
          "name": "stdout",
          "text": [
            "  school sex  age address famsize Pstatus  Medu  Fedu     Mjob      Fjob  ...  \\\n",
            "0     GP   F   18       U     GT3       A     4     4  at_home   teacher  ...   \n",
            "1     GP   F   17       U     GT3       T     1     1  at_home     other  ...   \n",
            "2     GP   F   15       U     LE3       T     1     1  at_home     other  ...   \n",
            "3     GP   F   15       U     GT3       T     4     2   health  services  ...   \n",
            "4     GP   F   16       U     GT3       T     3     3    other     other  ...   \n",
            "\n",
            "  famrel freetime  goout  Dalc  Walc health absences  G1  G2  G3  \n",
            "0      4        3      4     1     1      3        4   0  11  11  \n",
            "1      5        3      3     1     1      3        2   9  11  11  \n",
            "2      4        3      2     2     3      3        6  12  13  12  \n",
            "3      3        2      2     1     1      5        0  14  14  14  \n",
            "4      4        3      2     1     2      5        0  11  13  13  \n",
            "\n",
            "[5 rows x 33 columns]\n",
            "               age         Medu         Fedu   traveltime    studytime  \\\n",
            "count  1044.000000  1044.000000  1044.000000  1044.000000  1044.000000   \n",
            "mean     16.726054     2.603448     2.387931     1.522989     1.970307   \n",
            "std       1.239975     1.124907     1.099938     0.731727     0.834353   \n",
            "min      15.000000     0.000000     0.000000     1.000000     1.000000   \n",
            "25%      16.000000     2.000000     1.000000     1.000000     1.000000   \n",
            "50%      17.000000     3.000000     2.000000     1.000000     2.000000   \n",
            "75%      18.000000     4.000000     3.000000     2.000000     2.000000   \n",
            "max      22.000000     4.000000     4.000000     4.000000     4.000000   \n",
            "\n",
            "          failures       famrel     freetime        goout         Dalc  \\\n",
            "count  1044.000000  1044.000000  1044.000000  1044.000000  1044.000000   \n",
            "mean      0.264368     3.935824     3.201149     3.156130     1.494253   \n",
            "std       0.656142     0.933401     1.031507     1.152575     0.911714   \n",
            "min       0.000000     1.000000     1.000000     1.000000     1.000000   \n",
            "25%       0.000000     4.000000     3.000000     2.000000     1.000000   \n",
            "50%       0.000000     4.000000     3.000000     3.000000     1.000000   \n",
            "75%       0.000000     5.000000     4.000000     4.000000     2.000000   \n",
            "max       3.000000     5.000000     5.000000     5.000000     5.000000   \n",
            "\n",
            "              Walc       health     absences           G1           G2  \\\n",
            "count  1044.000000  1044.000000  1044.000000  1044.000000  1044.000000   \n",
            "mean      2.284483     3.543103     4.434866    11.213602    11.246169   \n",
            "std       1.285105     1.424703     6.210017     2.983394     3.285071   \n",
            "min       1.000000     1.000000     0.000000     0.000000     0.000000   \n",
            "25%       1.000000     3.000000     0.000000     9.000000     9.000000   \n",
            "50%       2.000000     4.000000     2.000000    11.000000    11.000000   \n",
            "75%       3.000000     5.000000     6.000000    13.000000    13.000000   \n",
            "max       5.000000     5.000000    75.000000    19.000000    19.000000   \n",
            "\n",
            "                G3  \n",
            "count  1044.000000  \n",
            "mean     11.341954  \n",
            "std       3.864796  \n",
            "min       0.000000  \n",
            "25%      10.000000  \n",
            "50%      11.000000  \n",
            "75%      14.000000  \n",
            "max      20.000000  \n",
            "school        0\n",
            "sex           0\n",
            "age           0\n",
            "address       0\n",
            "famsize       0\n",
            "Pstatus       0\n",
            "Medu          0\n",
            "Fedu          0\n",
            "Mjob          0\n",
            "Fjob          0\n",
            "reason        0\n",
            "guardian      0\n",
            "traveltime    0\n",
            "studytime     0\n",
            "failures      0\n",
            "schoolsup     0\n",
            "famsup        0\n",
            "paid          0\n",
            "activities    0\n",
            "nursery       0\n",
            "higher        0\n",
            "internet      0\n",
            "romantic      0\n",
            "famrel        0\n",
            "freetime      0\n",
            "goout         0\n",
            "Dalc          0\n",
            "Walc          0\n",
            "health        0\n",
            "absences      0\n",
            "G1            0\n",
            "G2            0\n",
            "G3            0\n",
            "dtype: int64\n",
            "<class 'pandas.core.frame.DataFrame'>\n",
            "Index: 1044 entries, 0 to 394\n",
            "Data columns (total 33 columns):\n",
            " #   Column      Non-Null Count  Dtype \n",
            "---  ------      --------------  ----- \n",
            " 0   school      1044 non-null   object\n",
            " 1   sex         1044 non-null   object\n",
            " 2   age         1044 non-null   int64 \n",
            " 3   address     1044 non-null   object\n",
            " 4   famsize     1044 non-null   object\n",
            " 5   Pstatus     1044 non-null   object\n",
            " 6   Medu        1044 non-null   int64 \n",
            " 7   Fedu        1044 non-null   int64 \n",
            " 8   Mjob        1044 non-null   object\n",
            " 9   Fjob        1044 non-null   object\n",
            " 10  reason      1044 non-null   object\n",
            " 11  guardian    1044 non-null   object\n",
            " 12  traveltime  1044 non-null   int64 \n",
            " 13  studytime   1044 non-null   int64 \n",
            " 14  failures    1044 non-null   int64 \n",
            " 15  schoolsup   1044 non-null   object\n",
            " 16  famsup      1044 non-null   object\n",
            " 17  paid        1044 non-null   object\n",
            " 18  activities  1044 non-null   object\n",
            " 19  nursery     1044 non-null   object\n",
            " 20  higher      1044 non-null   object\n",
            " 21  internet    1044 non-null   object\n",
            " 22  romantic    1044 non-null   object\n",
            " 23  famrel      1044 non-null   int64 \n",
            " 24  freetime    1044 non-null   int64 \n",
            " 25  goout       1044 non-null   int64 \n",
            " 26  Dalc        1044 non-null   int64 \n",
            " 27  Walc        1044 non-null   int64 \n",
            " 28  health      1044 non-null   int64 \n",
            " 29  absences    1044 non-null   int64 \n",
            " 30  G1          1044 non-null   int64 \n",
            " 31  G2          1044 non-null   int64 \n",
            " 32  G3          1044 non-null   int64 \n",
            "dtypes: int64(16), object(17)\n",
            "memory usage: 277.3+ KB\n",
            "None\n"
          ]
        }
      ]
    },
    {
      "cell_type": "code",
      "source": [
        "plt.hist(df['G3'])\n",
        "plt.title('Distribution of Final Grade (G3)')\n",
        "plt.xlabel('Final Grade')\n",
        "plt.ylabel('Frequency')\n",
        "plt.show()\n"
      ],
      "metadata": {
        "colab": {
          "base_uri": "https://localhost:8080/",
          "height": 490
        },
        "collapsed": true,
        "id": "h49QGcXiGEqd",
        "outputId": "29cf1f1a-bc27-4e8d-fe72-8f917754a9ca"
      },
      "execution_count": null,
      "outputs": [
        {
          "output_type": "execute_result",
          "data": {
            "text/plain": [
              "Text(0, 0.5, 'Frequency')"
            ]
          },
          "metadata": {},
          "execution_count": 10
        },
        {
          "output_type": "display_data",
          "data": {
            "text/plain": [
              "<Figure size 640x480 with 1 Axes>"
            ],
            "image/png": "[encoded data removed]"
          },
          "metadata": {}
        }
      ]
    },
    {
      "cell_type": "code",
      "source": [
        "#to check the pass percentage i gonna convert the g3 data into classification problem\n",
        "#with 40% ie 8 marks\n",
        "df['G3']=(df['G3']>=8).astype(int)\n",
        "#handling missing values\n",
        "df.fillna(df.mean(numeric_only=True),inplace=True)\n",
        "for column in df.select_dtypes(include=['object']).columns:\n",
        "    df[column] = df[column].fillna(df[column].mode()[0])\n",
        "\n"
      ],
      "metadata": {
        "id": "sbofg1DCKObS"
      },
      "execution_count": null,
      "outputs": []
    },
    {
      "cell_type": "code",
      "source": [
        "#encoding\n",
        "#use label encoder on any categorical variable and the method fit_transform in this does the job\n",
        "# Encode binary categorical variables using LabelEncoder\n",
        "binary_vars = ['school', 'sex', 'address', 'famsize', 'Pstatus',\n",
        "               'schoolsup', 'famsup', 'paid', 'activities',\n",
        "               'nursery', 'higher', 'internet', 'romantic']\n",
        "for var in binary_vars:\n",
        "    le = LabelEncoder()\n",
        "    df[var] = le.fit_transform(df[var])\n",
        "# Encode nominal categorical variables using get_dummies\n",
        "nominal_vars = ['Mjob', 'Fjob', 'reason', 'guardian']\n",
        "\n",
        "df = pd.get_dummies(df, columns=nominal_vars, drop_first=True)\n",
        "print(df.select_dtypes(include=['object']).columns)"
      ],
      "metadata": {
        "colab": {
          "base_uri": "https://localhost:8080/"
        },
        "id": "LXDDeuvZRysa",
        "outputId": "8f451a6d-6ba7-4ae7-8d0d-19501a7a6a19"
      },
      "execution_count": null,
      "outputs": [
        {
          "output_type": "stream",
          "name": "stdout",
          "text": [
            "Index([], dtype='object')\n"
          ]
        }
      ]
    },
    {
      "cell_type": "code",
      "source": [
        "# Normalize numeric values\n",
        "numeric_features = df.select_dtypes(include=['int64', 'float64']).columns.tolist()\n",
        "numeric_features.remove('G3')\n",
        "\n",
        "numeric_features = df.select_dtypes(include=['int64', 'float64']).columns.tolist()\n",
        "numeric_features.remove('G3')\n",
        "scaler = StandardScaler()\n",
        "df[numeric_features] = scaler.fit_transform(df[numeric_features])\n",
        "# Preparing the data\n",
        "X = df.drop(['G3'], axis=1)\n",
        "y = df['G3']\n",
        "X_train, X_test, y_train, y_test = train_test_split(X, y, test_size=0.2, random_state=42)\n",
        "print(X_train.select_dtypes(include=['object']).columns)\n"
      ],
      "metadata": {
        "colab": {
          "base_uri": "https://localhost:8080/"
        },
        "id": "itmtik9peEfX",
        "outputId": "c0630b00-c735-4243-b61c-5f9875937147"
      },
      "execution_count": null,
      "outputs": [
        {
          "output_type": "stream",
          "name": "stdout",
          "text": [
            "Index([], dtype='object')\n"
          ]
        }
      ]
    },
    {
      "cell_type": "code",
      "source": [
        "from sklearn.ensemble import RandomForestClassifier\n",
        "from sklearn.metrics import accuracy_score\n",
        "\n",
        "# Model training using Random Forest\n",
        "model = RandomForestClassifier(n_estimators=200, random_state=42)\n",
        "model.fit(X_train, y_train)\n",
        "# Predictions and evaluation\n",
        "y_pred = model.predict(X_test)\n",
        "accuracy = accuracy_score(y_test, y_pred)\n",
        "print('Accuracy: ', accuracy)\n",
        "\n",
        "from sklearn.metrics import confusion_matrix\n",
        "print('Confusion Matrix:\\n', confusion_matrix(y_test, y_pred))\n"
      ],
      "metadata": {
        "colab": {
          "base_uri": "https://localhost:8080/"
        },
        "id": "BcHin_s-fR7f",
        "outputId": "0ccb0d57-4f1f-4bb2-de70-fac80c0adb25"
      },
      "execution_count": null,
      "outputs": [
        {
          "output_type": "stream",
          "name": "stdout",
          "text": [
            "Accuracy:  1.0\n",
            "Confusion Matrix:\n",
            " [[209]]\n"
          ]
        },
        {
          "output_type": "stream",
          "name": "stderr",
          "text": [
            "/usr/local/lib/python3.11/dist-packages/sklearn/metrics/_classification.py:407: UserWarning: A single label was found in 'y_true' and 'y_pred'. For the confusion matrix to have the correct shape, use the 'labels' parameter to pass all known labels.\n",
            "  warnings.warn(\n"
          ]
        }
      ]
    },
    {
      "cell_type": "markdown",
      "source": [],
      "metadata": {
        "id": "xVUg11UVe1NO"
      }
    }
  ]
}